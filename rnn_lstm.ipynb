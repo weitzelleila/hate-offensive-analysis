{
  "nbformat": 4,
  "nbformat_minor": 0,
  "metadata": {
    "colab": {
      "name": "rnn lstm.ipynb",
      "provenance": [],
      "collapsed_sections": [],
      "toc_visible": true,
      "include_colab_link": true
    },
    "kernelspec": {
      "name": "python3",
      "display_name": "Python 3"
    }
  },
  "cells": [
    {
      "cell_type": "markdown",
      "metadata": {
        "id": "view-in-github",
        "colab_type": "text"
      },
      "source": [
        "<a href=\"https://colab.research.google.com/github/weitzelleila/hate-offensive-analysis/blob/master/rnn_lstm.ipynb\" target=\"_parent\"><img src=\"https://colab.research.google.com/assets/colab-badge.svg\" alt=\"Open In Colab\"/></a>"
      ]
    },
    {
      "cell_type": "markdown",
      "metadata": {
        "id": "e-sOvluBy483",
        "colab_type": "text"
      },
      "source": [
        "# Read non balanced data\n"
      ]
    },
    {
      "cell_type": "code",
      "metadata": {
        "id": "7juXNr0Py6DL",
        "colab_type": "code",
        "colab": {}
      },
      "source": [
        "import pandas as pd\n",
        "trainDF = pd.read_csv('/content/drive/My Drive/TCC/proc_NB.csv',index_col=1).drop(['Unnamed: 0'],axis=1)\n",
        "trainDF.groupby('label').count()\n",
        "\n",
        "trainDF.label = [1 if label == \"hatetag\" else 0 for label in trainDF.label] "
      ],
      "execution_count": 0,
      "outputs": []
    },
    {
      "cell_type": "markdown",
      "metadata": {
        "id": "sNZNIokmGM0o",
        "colab_type": "text"
      },
      "source": [
        "# Split data"
      ]
    },
    {
      "cell_type": "code",
      "metadata": {
        "id": "YfUcRol8GPge",
        "colab_type": "code",
        "colab": {}
      },
      "source": [
        "from sklearn import model_selection, preprocessing\n",
        "# split the dataset into training and validation datasets \n",
        "train_x, valid_x, train_y, valid_y = model_selection.train_test_split(trainDF['text'], trainDF['label'])\n",
        "\n",
        "encoder = preprocessing.LabelEncoder()\n",
        "train_y = encoder.fit_transform(train_y)\n",
        "valid_y = encoder.fit_transform(valid_y)"
      ],
      "execution_count": 0,
      "outputs": []
    },
    {
      "cell_type": "markdown",
      "metadata": {
        "id": "1vCLTt29JH-h",
        "colab_type": "text"
      },
      "source": [
        "# Word Embeddings"
      ]
    },
    {
      "cell_type": "code",
      "metadata": {
        "id": "VQtnQL4UJKGb",
        "colab_type": "code",
        "colab": {}
      },
      "source": [
        "from numpy import asarray, zeros\n",
        "from keras.preprocessing import text, sequence\n",
        "\n",
        "# load the pre-trained word-embedding vectors \n",
        "embeddings_index = {}\n",
        "for i, line in enumerate(open('/content/drive/My Drive/TCC/cbow_s50_filtrado.txt')):\n",
        "    values = line.split()\n",
        "    embeddings_index[values[0]] = asarray(values[1:], dtype='float32')\n",
        "token = text.Tokenizer()\n",
        "token.fit_on_texts(trainDF['text'])\n",
        "word_index = token.word_index\n",
        "\n",
        "# convert text to sequence of tokens and pad them to ensure equal length vectors \n",
        "train_seq_x = sequence.pad_sequences(token.texts_to_sequences(train_x), maxlen=100)\n",
        "valid_seq_x = sequence.pad_sequences(token.texts_to_sequences(valid_x), maxlen=100)\n",
        "\n",
        "# create token-embedding mapping\n",
        "embedding_matrix = zeros((len(word_index) + 1, 50))\n",
        "for word, i in word_index.items():\n",
        "    embedding_vector = embeddings_index.get(word)\n",
        "    if embedding_vector is not None:\n",
        "        embedding_matrix[i] = embedding_vector\n"
      ],
      "execution_count": 0,
      "outputs": []
    },
    {
      "cell_type": "markdown",
      "metadata": {
        "id": "i0x2piH9dFoF",
        "colab_type": "text"
      },
      "source": [
        "# BERT"
      ]
    },
    {
      "cell_type": "markdown",
      "metadata": {
        "id": "WMpxk9kEA-Gu",
        "colab_type": "text"
      },
      "source": [
        "# LSTM"
      ]
    },
    {
      "cell_type": "code",
      "metadata": {
        "id": "_47R4F6QBB54",
        "colab_type": "code",
        "outputId": "84d196ec-767c-4f0c-d0e2-d6eb8d311295",
        "colab": {
          "base_uri": "https://localhost:8080/",
          "height": 72
        }
      },
      "source": [
        "from sklearn import metrics\n",
        "from keras import layers, models, optimizers\n",
        "\n",
        "def train_model(classifier, feature_vector_train, label, feature_vector_valid, is_neural_net=False):\n",
        "    # fit the training dataset on the classifier\n",
        "    classifier.fit(feature_vector_train, label,epochs=1)\n",
        "    \n",
        "    # predict the labels on validation dataset\n",
        "    predictions = classifier.predict(feature_vector_valid)\n",
        "    \n",
        "    if is_neural_net:\n",
        "        predictions = predictions.argmax(axis=-1)\n",
        "        with open('/content/drive/My Drive/TCC/predictions.txt','w') as f:\n",
        "          predictions.tofile(f,sep=\"\\n\",format=\"%s\")\n",
        "    return predictions\n",
        "\n",
        "def create_rnn_lstm():\n",
        "  # Add an Input Layer\n",
        "  input_layer = layers.Input((100, ))\n",
        "\n",
        "  # Add the word embedding Layer\n",
        "  embedding_layer = layers.Embedding(len(word_index) + 1, 50, weights=[embedding_matrix], trainable=False)(input_layer)\n",
        "  embedding_layer = layers.SpatialDropout1D(0.3)(embedding_layer)\n",
        "\n",
        "  # Add the LSTM Layer\n",
        "  lstm_layer = layers.LSTM(100)(embedding_layer)\n",
        "\n",
        "  # Add the output Layers\n",
        "  output_layer1 = layers.Dense(50, activation=\"relu\")(lstm_layer)\n",
        "  output_layer1 = layers.Dropout(0.25)(output_layer1)\n",
        "  output_layer2 = layers.Dense(1, activation=\"sigmoid\")(output_layer1)\n",
        "\n",
        "  # Compile the model\n",
        "  model = models.Model(inputs=input_layer, outputs=output_layer2)\n",
        "  model.compile(optimizer=optimizers.Adam(), loss='binary_crossentropy', metrics=['acc', 'mae'])\n",
        "  return model\n",
        "\n",
        "classifier = create_rnn_lstm()\n",
        "predictions = train_model(classifier, train_seq_x, train_y, valid_seq_x, is_neural_net=True)\n",
        "print (\"RNN-LSTM, Word Embeddings\",  metrics.accuracy_score(predictions,valid_y)\n",
        "\n"
      ],
      "execution_count": 0,
      "outputs": [
        {
          "output_type": "stream",
          "text": [
            "Epoch 1/1\n",
            "24382/24382 [==============================] - 60s 2ms/step - loss: 0.3525 - acc: 0.8742 - mae: 0.2068\n",
            "RNN-LSTM, Word Embeddings 0.8777066929133859\n"
          ],
          "name": "stdout"
        }
      ]
    },
    {
      "cell_type": "code",
      "metadata": {
        "id": "JYGpsizYv3MI",
        "colab_type": "code",
        "outputId": "c9897c76-da00-4097-c471-ec7ccddae9d2",
        "colab": {
          "base_uri": "https://localhost:8080/",
          "height": 432
        }
      },
      "source": [
        "import seaborn as sn\n",
        "import matplotlib.pyplot as plt\n",
        "from numpy import int\n",
        "\n",
        "\n",
        "cm = metrics.confusion_matrix(valid_y,predictions)\n",
        "df_cm = pd.DataFrame(cm,['P_NOT_HATE','P_HATE'], ['not_hate','hate'])\n",
        "plt.figure(figsize=(10,7))\n",
        "sn.set(font_scale=1)# for label size\n",
        "sn.heatmap(df_cm, annot=True,fmt='d') # font size\n",
        "\n",
        "plt.show()"
      ],
      "execution_count": 0,
      "outputs": [
        {
          "output_type": "display_data",
          "data": {
            "image/png": "[encoded data removed]",
            "text/plain": [
              "<Figure size 720x504 with 2 Axes>"
            ]
          },
          "metadata": {
            "tags": []
          }
        }
      ]
    },
    {
      "cell_type": "markdown",
      "metadata": {
        "id": "PKEyKPwc_zuL",
        "colab_type": "text"
      },
      "source": [
        "# New Section"
      ]
    }
  ]
}